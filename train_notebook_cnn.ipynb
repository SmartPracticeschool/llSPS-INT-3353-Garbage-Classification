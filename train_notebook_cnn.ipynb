{
 "cells": [
  {
   "cell_type": "code",
   "execution_count": 1,
   "metadata": {},
   "outputs": [
    {
     "name": "stderr",
     "output_type": "stream",
     "text": [
      "Using TensorFlow backend.\n",
      "C:\\Users\\admin\\anaconda3\\lib\\site-packages\\tensorflow\\python\\framework\\dtypes.py:516: FutureWarning: Passing (type, 1) or '1type' as a synonym of type is deprecated; in a future version of numpy, it will be understood as (type, (1,)) / '(1,)type'.\n",
      "  _np_qint8 = np.dtype([(\"qint8\", np.int8, 1)])\n",
      "C:\\Users\\admin\\anaconda3\\lib\\site-packages\\tensorflow\\python\\framework\\dtypes.py:517: FutureWarning: Passing (type, 1) or '1type' as a synonym of type is deprecated; in a future version of numpy, it will be understood as (type, (1,)) / '(1,)type'.\n",
      "  _np_quint8 = np.dtype([(\"quint8\", np.uint8, 1)])\n",
      "C:\\Users\\admin\\anaconda3\\lib\\site-packages\\tensorflow\\python\\framework\\dtypes.py:518: FutureWarning: Passing (type, 1) or '1type' as a synonym of type is deprecated; in a future version of numpy, it will be understood as (type, (1,)) / '(1,)type'.\n",
      "  _np_qint16 = np.dtype([(\"qint16\", np.int16, 1)])\n",
      "C:\\Users\\admin\\anaconda3\\lib\\site-packages\\tensorflow\\python\\framework\\dtypes.py:519: FutureWarning: Passing (type, 1) or '1type' as a synonym of type is deprecated; in a future version of numpy, it will be understood as (type, (1,)) / '(1,)type'.\n",
      "  _np_quint16 = np.dtype([(\"quint16\", np.uint16, 1)])\n",
      "C:\\Users\\admin\\anaconda3\\lib\\site-packages\\tensorflow\\python\\framework\\dtypes.py:520: FutureWarning: Passing (type, 1) or '1type' as a synonym of type is deprecated; in a future version of numpy, it will be understood as (type, (1,)) / '(1,)type'.\n",
      "  _np_qint32 = np.dtype([(\"qint32\", np.int32, 1)])\n",
      "C:\\Users\\admin\\anaconda3\\lib\\site-packages\\tensorflow\\python\\framework\\dtypes.py:525: FutureWarning: Passing (type, 1) or '1type' as a synonym of type is deprecated; in a future version of numpy, it will be understood as (type, (1,)) / '(1,)type'.\n",
      "  np_resource = np.dtype([(\"resource\", np.ubyte, 1)])\n",
      "C:\\Users\\admin\\anaconda3\\lib\\site-packages\\tensorboard\\compat\\tensorflow_stub\\dtypes.py:541: FutureWarning: Passing (type, 1) or '1type' as a synonym of type is deprecated; in a future version of numpy, it will be understood as (type, (1,)) / '(1,)type'.\n",
      "  _np_qint8 = np.dtype([(\"qint8\", np.int8, 1)])\n",
      "C:\\Users\\admin\\anaconda3\\lib\\site-packages\\tensorboard\\compat\\tensorflow_stub\\dtypes.py:542: FutureWarning: Passing (type, 1) or '1type' as a synonym of type is deprecated; in a future version of numpy, it will be understood as (type, (1,)) / '(1,)type'.\n",
      "  _np_quint8 = np.dtype([(\"quint8\", np.uint8, 1)])\n",
      "C:\\Users\\admin\\anaconda3\\lib\\site-packages\\tensorboard\\compat\\tensorflow_stub\\dtypes.py:543: FutureWarning: Passing (type, 1) or '1type' as a synonym of type is deprecated; in a future version of numpy, it will be understood as (type, (1,)) / '(1,)type'.\n",
      "  _np_qint16 = np.dtype([(\"qint16\", np.int16, 1)])\n",
      "C:\\Users\\admin\\anaconda3\\lib\\site-packages\\tensorboard\\compat\\tensorflow_stub\\dtypes.py:544: FutureWarning: Passing (type, 1) or '1type' as a synonym of type is deprecated; in a future version of numpy, it will be understood as (type, (1,)) / '(1,)type'.\n",
      "  _np_quint16 = np.dtype([(\"quint16\", np.uint16, 1)])\n",
      "C:\\Users\\admin\\anaconda3\\lib\\site-packages\\tensorboard\\compat\\tensorflow_stub\\dtypes.py:545: FutureWarning: Passing (type, 1) or '1type' as a synonym of type is deprecated; in a future version of numpy, it will be understood as (type, (1,)) / '(1,)type'.\n",
      "  _np_qint32 = np.dtype([(\"qint32\", np.int32, 1)])\n",
      "C:\\Users\\admin\\anaconda3\\lib\\site-packages\\tensorboard\\compat\\tensorflow_stub\\dtypes.py:550: FutureWarning: Passing (type, 1) or '1type' as a synonym of type is deprecated; in a future version of numpy, it will be understood as (type, (1,)) / '(1,)type'.\n",
      "  np_resource = np.dtype([(\"resource\", np.ubyte, 1)])\n"
     ]
    }
   ],
   "source": [
    "#Data Processing\n",
    "\n",
    "#Importing the ImagaDataGeneratorLibrary\n",
    "from keras.preprocessing.image import ImageDataGenerator\n",
    "\n"
   ]
  },
  {
   "cell_type": "code",
   "execution_count": 2,
   "metadata": {},
   "outputs": [],
   "source": [
    "#configuring ImageDataGenerator Class\n",
    "train_datagen=ImageDataGenerator(rescale=1./255,shear_range=0.2,zoom_range=0.2,horizontal_flip=True,vertical_flip=True,\n",
    "                                validation_split=0.1,width_shift_range = 0.1,height_shift_range = 0.1,)\n",
    "test_datagen=ImageDataGenerator(rescale=1./255,validation_split=0.1)"
   ]
  },
  {
   "cell_type": "code",
   "execution_count": 3,
   "metadata": {},
   "outputs": [
    {
     "name": "stdout",
     "output_type": "stream",
     "text": [
      "Found 1829 images belonging to 6 classes.\n",
      "Found 47 images belonging to 6 classes.\n"
     ]
    }
   ],
   "source": [
    "#Applying ImageDataGenerator functionality to Trainset and Testset\n",
    "\n",
    "x_train=train_datagen.flow_from_directory(r'D:\\Garbage Collection\\dataset\\train_dataset',target_size=(64,64),\n",
    "                                          batch_size=32,class_mode='categorical',subset='training')\n",
    "\n",
    "x_test=test_datagen.flow_from_directory(r'D:\\Garbage Collection\\dataset\\test_dataset',target_size=(64,64),batch_size=32,\n",
    "                                        class_mode='categorical',subset='validation')"
   ]
  },
  {
   "cell_type": "markdown",
   "metadata": {},
   "source": [
    "# Model Building\n"
   ]
  },
  {
   "cell_type": "code",
   "execution_count": 4,
   "metadata": {},
   "outputs": [],
   "source": [
    "#importing the model_buiding libraries\n",
    "from keras.models import Sequential\n",
    "from keras.layers import Dense\n",
    "from keras.layers import Convolution2D\n",
    "from keras.layers import MaxPooling2D\n",
    "from keras.layers import Flatten,Dropout\n"
   ]
  },
  {
   "cell_type": "code",
   "execution_count": 5,
   "metadata": {},
   "outputs": [
    {
     "name": "stdout",
     "output_type": "stream",
     "text": [
      "WARNING:tensorflow:From C:\\Users\\admin\\anaconda3\\lib\\site-packages\\keras\\backend\\tensorflow_backend.py:74: The name tf.get_default_graph is deprecated. Please use tf.compat.v1.get_default_graph instead.\n",
      "\n"
     ]
    }
   ],
   "source": [
    "#initialising the model\n",
    "model=Sequential()"
   ]
  },
  {
   "cell_type": "code",
   "execution_count": 6,
   "metadata": {},
   "outputs": [
    {
     "name": "stdout",
     "output_type": "stream",
     "text": [
      "WARNING:tensorflow:From C:\\Users\\admin\\anaconda3\\lib\\site-packages\\keras\\backend\\tensorflow_backend.py:517: The name tf.placeholder is deprecated. Please use tf.compat.v1.placeholder instead.\n",
      "\n",
      "WARNING:tensorflow:From C:\\Users\\admin\\anaconda3\\lib\\site-packages\\keras\\backend\\tensorflow_backend.py:4138: The name tf.random_uniform is deprecated. Please use tf.random.uniform instead.\n",
      "\n",
      "WARNING:tensorflow:From C:\\Users\\admin\\anaconda3\\lib\\site-packages\\keras\\backend\\tensorflow_backend.py:3976: The name tf.nn.max_pool is deprecated. Please use tf.nn.max_pool2d instead.\n",
      "\n"
     ]
    }
   ],
   "source": [
    "#Adding CNN layers\n",
    "\n",
    "#adding convolution2D layer\n",
    "model.add(Convolution2D(32,(3,3),padding='same',input_shape=(64,64,3),activation='relu'))\n",
    "\n",
    "#adding maxpooling layer\n",
    "model.add(MaxPooling2D(pool_size=(2,2)))\n",
    "#adding convolution2D layer   \n",
    "model.add(Convolution2D(64,(3,3), padding='same', activation='relu'))\n",
    "#adding maxpooling layer\n",
    "model.add(MaxPooling2D(pool_size=(2,2))) \n",
    "#adding convolution2D layer\n",
    "model.add(Convolution2D(32,(3,3), padding='same', activation='relu'))\n",
    "#adding maxpooling layer\n",
    "model.add(MaxPooling2D(pool_size=(2,2))) \n",
    "\n",
    "#adding flatten() layer\n",
    "model.add(Flatten())\n",
    "\n"
   ]
  },
  {
   "cell_type": "code",
   "execution_count": 7,
   "metadata": {},
   "outputs": [
    {
     "name": "stdout",
     "output_type": "stream",
     "text": [
      "WARNING:tensorflow:From C:\\Users\\admin\\anaconda3\\lib\\site-packages\\keras\\backend\\tensorflow_backend.py:133: The name tf.placeholder_with_default is deprecated. Please use tf.compat.v1.placeholder_with_default instead.\n",
      "\n",
      "WARNING:tensorflow:From C:\\Users\\admin\\anaconda3\\lib\\site-packages\\keras\\backend\\tensorflow_backend.py:3445: calling dropout (from tensorflow.python.ops.nn_ops) with keep_prob is deprecated and will be removed in a future version.\n",
      "Instructions for updating:\n",
      "Please use `rate` instead of `keep_prob`. Rate should be set to `rate = 1 - keep_prob`.\n"
     ]
    }
   ],
   "source": [
    "#adding dense layers\n",
    "\n",
    "#adding hidden layer\n",
    "model.add(Dense(units=128,activation='relu'))\n",
    "model.add(Dropout(0.5))\n",
    "\n",
    "\n",
    "#adding output layer\n",
    "model.add(Dense(units=6,activation='softmax'))"
   ]
  },
  {
   "cell_type": "code",
   "execution_count": 8,
   "metadata": {},
   "outputs": [
    {
     "name": "stdout",
     "output_type": "stream",
     "text": [
      "WARNING:tensorflow:From C:\\Users\\admin\\anaconda3\\lib\\site-packages\\keras\\optimizers.py:790: The name tf.train.Optimizer is deprecated. Please use tf.compat.v1.train.Optimizer instead.\n",
      "\n",
      "WARNING:tensorflow:From C:\\Users\\admin\\anaconda3\\lib\\site-packages\\keras\\backend\\tensorflow_backend.py:3295: The name tf.log is deprecated. Please use tf.math.log instead.\n",
      "\n"
     ]
    }
   ],
   "source": [
    "#configuring the learning process\n",
    "model.compile(loss='categorical_crossentropy',optimizer='adam',metrics=['accuracy'])"
   ]
  },
  {
   "cell_type": "code",
   "execution_count": 9,
   "metadata": {},
   "outputs": [
    {
     "name": "stdout",
     "output_type": "stream",
     "text": [
      "_________________________________________________________________\n",
      "Layer (type)                 Output Shape              Param #   \n",
      "=================================================================\n",
      "conv2d_1 (Conv2D)            (None, 64, 64, 32)        896       \n",
      "_________________________________________________________________\n",
      "max_pooling2d_1 (MaxPooling2 (None, 32, 32, 32)        0         \n",
      "_________________________________________________________________\n",
      "conv2d_2 (Conv2D)            (None, 32, 32, 64)        18496     \n",
      "_________________________________________________________________\n",
      "max_pooling2d_2 (MaxPooling2 (None, 16, 16, 64)        0         \n",
      "_________________________________________________________________\n",
      "conv2d_3 (Conv2D)            (None, 16, 16, 32)        18464     \n",
      "_________________________________________________________________\n",
      "max_pooling2d_3 (MaxPooling2 (None, 8, 8, 32)          0         \n",
      "_________________________________________________________________\n",
      "flatten_1 (Flatten)          (None, 2048)              0         \n",
      "_________________________________________________________________\n",
      "dense_1 (Dense)              (None, 128)               262272    \n",
      "_________________________________________________________________\n",
      "dropout_1 (Dropout)          (None, 128)               0         \n",
      "_________________________________________________________________\n",
      "dense_2 (Dense)              (None, 6)                 774       \n",
      "=================================================================\n",
      "Total params: 300,902\n",
      "Trainable params: 300,902\n",
      "Non-trainable params: 0\n",
      "_________________________________________________________________\n"
     ]
    }
   ],
   "source": [
    "#to know the summary of model\n",
    "model.summary()"
   ]
  },
  {
   "cell_type": "code",
   "execution_count": 10,
   "metadata": {},
   "outputs": [
    {
     "name": "stdout",
     "output_type": "stream",
     "text": [
      "{0: 'crbrd', 1: 'glass', 2: 'metal', 3: 'paper', 4: 'plastic', 5: 'trash'}\n"
     ]
    }
   ],
   "source": [
    "labels = (x_train.class_indices)\n",
    "labels = dict((v,k) for k,v in labels.items())\n",
    "print(labels)\n"
   ]
  },
  {
   "cell_type": "code",
   "execution_count": 11,
   "metadata": {},
   "outputs": [
    {
     "name": "stdout",
     "output_type": "stream",
     "text": [
      "WARNING:tensorflow:From C:\\Users\\admin\\anaconda3\\lib\\site-packages\\tensorflow\\python\\ops\\math_grad.py:1250: add_dispatch_support.<locals>.wrapper (from tensorflow.python.ops.array_ops) is deprecated and will be removed in a future version.\n",
      "Instructions for updating:\n",
      "Use tf.where in 2.0, which has the same broadcast rule as np.where\n",
      "Epoch 1/50\n",
      "58/58 [==============================] - 27s 462ms/step - loss: 1.6894 - acc: 0.2712 - val_loss: 1.5009 - val_acc: 0.3617\n",
      "Epoch 2/50\n",
      "58/58 [==============================] - 28s 476ms/step - loss: 1.5428 - acc: 0.3666 - val_loss: 1.2374 - val_acc: 0.5319\n",
      "Epoch 3/50\n",
      "58/58 [==============================] - 29s 494ms/step - loss: 1.4395 - acc: 0.4029 - val_loss: 1.3251 - val_acc: 0.5319\n",
      "Epoch 4/50\n",
      "58/58 [==============================] - 27s 471ms/step - loss: 1.3797 - acc: 0.4406 - val_loss: 1.2059 - val_acc: 0.5532\n",
      "Epoch 5/50\n",
      "58/58 [==============================] - 25s 437ms/step - loss: 1.3478 - acc: 0.4529 - val_loss: 1.2902 - val_acc: 0.5532\n",
      "Epoch 6/50\n",
      "58/58 [==============================] - 27s 461ms/step - loss: 1.3517 - acc: 0.4687 - val_loss: 1.0205 - val_acc: 0.7021\n",
      "Epoch 7/50\n",
      "58/58 [==============================] - 26s 443ms/step - loss: 1.2604 - acc: 0.5091 - val_loss: 1.0101 - val_acc: 0.7021\n",
      "Epoch 8/50\n",
      "58/58 [==============================] - 26s 449ms/step - loss: 1.2038 - acc: 0.5455 - val_loss: 0.9462 - val_acc: 0.7021\n",
      "Epoch 9/50\n",
      "58/58 [==============================] - 25s 435ms/step - loss: 1.1924 - acc: 0.5347 - val_loss: 0.9259 - val_acc: 0.7234\n",
      "Epoch 10/50\n",
      "58/58 [==============================] - 26s 441ms/step - loss: 1.1751 - acc: 0.5380 - val_loss: 1.0362 - val_acc: 0.6809\n",
      "Epoch 11/50\n",
      "58/58 [==============================] - 26s 447ms/step - loss: 1.1675 - acc: 0.5429 - val_loss: 1.1171 - val_acc: 0.6809\n",
      "Epoch 12/50\n",
      "58/58 [==============================] - 25s 437ms/step - loss: 1.1517 - acc: 0.5504 - val_loss: 0.8284 - val_acc: 0.7660\n",
      "Epoch 13/50\n",
      "58/58 [==============================] - 25s 440ms/step - loss: 1.1178 - acc: 0.5832 - val_loss: 0.9111 - val_acc: 0.7021\n",
      "Epoch 14/50\n",
      "58/58 [==============================] - 27s 465ms/step - loss: 1.0780 - acc: 0.5874 - val_loss: 0.9474 - val_acc: 0.6809\n",
      "Epoch 15/50\n",
      "58/58 [==============================] - 26s 442ms/step - loss: 1.1323 - acc: 0.5773 - val_loss: 0.9833 - val_acc: 0.6383\n",
      "Epoch 16/50\n",
      "58/58 [==============================] - 25s 430ms/step - loss: 1.0973 - acc: 0.5793 - val_loss: 0.8187 - val_acc: 0.7447\n",
      "Epoch 17/50\n",
      "58/58 [==============================] - 26s 450ms/step - loss: 1.0769 - acc: 0.6093 - val_loss: 0.8532 - val_acc: 0.7021\n",
      "Epoch 18/50\n",
      "58/58 [==============================] - ETA: 0s - loss: 1.0380 - acc: 0.615 - 25s 428ms/step - loss: 1.0316 - acc: 0.6154 - val_loss: 0.8884 - val_acc: 0.6596\n",
      "Epoch 19/50\n",
      "58/58 [==============================] - 26s 442ms/step - loss: 1.0445 - acc: 0.6043 - val_loss: 0.9024 - val_acc: 0.6596\n",
      "Epoch 20/50\n",
      "58/58 [==============================] - 25s 436ms/step - loss: 1.0111 - acc: 0.6222 - val_loss: 0.8775 - val_acc: 0.7021\n",
      "Epoch 21/50\n",
      "58/58 [==============================] - 26s 444ms/step - loss: 1.0205 - acc: 0.6254 - val_loss: 0.8158 - val_acc: 0.6596\n",
      "Epoch 22/50\n",
      "58/58 [==============================] - 25s 436ms/step - loss: 1.0114 - acc: 0.6215 - val_loss: 0.8406 - val_acc: 0.6809\n",
      "Epoch 23/50\n",
      "58/58 [==============================] - 26s 441ms/step - loss: 0.9850 - acc: 0.6386 - val_loss: 0.8223 - val_acc: 0.6809\n",
      "Epoch 24/50\n",
      "58/58 [==============================] - 26s 452ms/step - loss: 0.9950 - acc: 0.6282 - val_loss: 0.8217 - val_acc: 0.6809\n",
      "Epoch 25/50\n",
      "58/58 [==============================] - 25s 437ms/step - loss: 0.9557 - acc: 0.6618 - val_loss: 0.7417 - val_acc: 0.8085\n",
      "Epoch 26/50\n",
      "58/58 [==============================] - 25s 438ms/step - loss: 0.9635 - acc: 0.6481 - val_loss: 0.9549 - val_acc: 0.6596\n",
      "Epoch 27/50\n",
      "58/58 [==============================] - 27s 463ms/step - loss: 0.9295 - acc: 0.6511 - val_loss: 0.8319 - val_acc: 0.7447\n",
      "Epoch 28/50\n",
      "58/58 [==============================] - 25s 435ms/step - loss: 0.9266 - acc: 0.6605 - val_loss: 0.8805 - val_acc: 0.7021\n",
      "Epoch 29/50\n",
      "58/58 [==============================] - 28s 483ms/step - loss: 0.9064 - acc: 0.6718 - val_loss: 0.6926 - val_acc: 0.7447\n",
      "Epoch 30/50\n",
      "58/58 [==============================] - 25s 430ms/step - loss: 0.9088 - acc: 0.6641 - val_loss: 0.7660 - val_acc: 0.7234\n",
      "Epoch 31/50\n",
      "58/58 [==============================] - 27s 458ms/step - loss: 0.9050 - acc: 0.6725 - val_loss: 0.8920 - val_acc: 0.6809\n",
      "Epoch 32/50\n",
      "58/58 [==============================] - 20s 353ms/step - loss: 0.9334 - acc: 0.6474 - val_loss: 0.7214 - val_acc: 0.8085\n",
      "Epoch 33/50\n",
      "58/58 [==============================] - 25s 430ms/step - loss: 0.8958 - acc: 0.6864 - val_loss: 0.5997 - val_acc: 0.8085\n",
      "Epoch 34/50\n",
      "58/58 [==============================] - 26s 440ms/step - loss: 0.8811 - acc: 0.6749 - val_loss: 0.7909 - val_acc: 0.7660\n",
      "Epoch 35/50\n",
      "58/58 [==============================] - 24s 422ms/step - loss: 0.8164 - acc: 0.6987 - val_loss: 0.6502 - val_acc: 0.8298\n",
      "Epoch 36/50\n",
      "58/58 [==============================] - 27s 464ms/step - loss: 0.8725 - acc: 0.6882 - val_loss: 0.6107 - val_acc: 0.8085\n",
      "Epoch 37/50\n",
      "58/58 [==============================] - ETA: 0s - loss: 0.8255 - acc: 0.705 - 27s 469ms/step - loss: 0.8350 - acc: 0.7004 - val_loss: 0.7533 - val_acc: 0.7234\n",
      "Epoch 38/50\n",
      "58/58 [==============================] - 25s 425ms/step - loss: 0.8482 - acc: 0.6973 - val_loss: 0.8061 - val_acc: 0.7447\n",
      "Epoch 39/50\n",
      "58/58 [==============================] - 25s 427ms/step - loss: 0.8198 - acc: 0.6941 - val_loss: 0.7794 - val_acc: 0.7234\n",
      "Epoch 40/50\n",
      "58/58 [==============================] - 25s 428ms/step - loss: 0.7797 - acc: 0.7151 - val_loss: 0.6021 - val_acc: 0.7872\n",
      "Epoch 41/50\n",
      "58/58 [==============================] - 25s 426ms/step - loss: 0.8389 - acc: 0.6862 - val_loss: 0.6602 - val_acc: 0.8085\n",
      "Epoch 42/50\n",
      "58/58 [==============================] - 24s 408ms/step - loss: 0.7738 - acc: 0.7164 - val_loss: 0.7770 - val_acc: 0.7447\n",
      "Epoch 43/50\n",
      "58/58 [==============================] - 24s 422ms/step - loss: 0.8243 - acc: 0.7095 - val_loss: 0.5469 - val_acc: 0.7872\n",
      "Epoch 44/50\n",
      "58/58 [==============================] - 24s 415ms/step - loss: 0.7848 - acc: 0.7167 - val_loss: 0.7688 - val_acc: 0.7021\n",
      "Epoch 45/50\n",
      "58/58 [==============================] - 24s 415ms/step - loss: 0.7387 - acc: 0.7300 - val_loss: 0.6233 - val_acc: 0.8085\n",
      "Epoch 46/50\n",
      "58/58 [==============================] - 23s 403ms/step - loss: 0.7219 - acc: 0.7402 - val_loss: 0.7722 - val_acc: 0.7234\n",
      "Epoch 47/50\n",
      "58/58 [==============================] - 24s 411ms/step - loss: 0.7649 - acc: 0.7219 - val_loss: 0.5833 - val_acc: 0.8085\n",
      "Epoch 48/50\n",
      "58/58 [==============================] - 24s 420ms/step - loss: 0.7159 - acc: 0.7370 - val_loss: 0.7804 - val_acc: 0.7447\n",
      "Epoch 49/50\n",
      "58/58 [==============================] - 26s 455ms/step - loss: 0.7685 - acc: 0.7250 - val_loss: 0.5714 - val_acc: 0.8511\n",
      "Epoch 50/50\n",
      "58/58 [==============================] - 24s 418ms/step - loss: 0.7305 - acc: 0.7360 - val_loss: 0.5169 - val_acc: 0.7872\n"
     ]
    },
    {
     "data": {
      "text/plain": [
       "<keras.callbacks.History at 0x2d17482c5c8>"
      ]
     },
     "execution_count": 11,
     "metadata": {},
     "output_type": "execute_result"
    }
   ],
   "source": [
    "#training the model\n",
    "model.fit_generator(x_train,steps_per_epoch=58,epochs=50,validation_data=x_test,validation_steps=2)"
   ]
  },
  {
   "cell_type": "code",
   "execution_count": 12,
   "metadata": {},
   "outputs": [],
   "source": [
    "model.save(\"proj_cnn.h5\")"
   ]
  },
  {
   "cell_type": "code",
   "execution_count": 13,
   "metadata": {},
   "outputs": [
    {
     "name": "stdout",
     "output_type": "stream",
     "text": [
      "[0.5161518822325036, 0.7872340476259272]\n"
     ]
    }
   ],
   "source": [
    "# Evaluate Model\n",
    "score = model.evaluate_generator(x_test, steps=2)\n",
    "print(score)\n"
   ]
  },
  {
   "cell_type": "code",
   "execution_count": null,
   "metadata": {},
   "outputs": [],
   "source": []
  }
 ],
 "metadata": {
  "kernelspec": {
   "display_name": "Python 3",
   "language": "python",
   "name": "python3"
  },
  "language_info": {
   "codemirror_mode": {
    "name": "ipython",
    "version": 3
   },
   "file_extension": ".py",
   "mimetype": "text/x-python",
   "name": "python",
   "nbconvert_exporter": "python",
   "pygments_lexer": "ipython3",
   "version": "3.7.6"
  }
 },
 "nbformat": 4,
 "nbformat_minor": 4
}
